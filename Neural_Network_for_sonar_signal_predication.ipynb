{
  "nbformat": 4,
  "nbformat_minor": 0,
  "metadata": {
    "colab": {
      "provenance": []
    },
    "kernelspec": {
      "name": "python3",
      "display_name": "Python 3"
    },
    "language_info": {
      "name": "python"
    }
  },
  "cells": [
    {
      "cell_type": "code",
      "execution_count": null,
      "metadata": {
        "id": "i5GrRCQjBT8L"
      },
      "outputs": [],
      "source": [
        "import numpy as np\n",
        "import pandas as pd\n",
        "import tensorflow as tf\n",
        "tf.compat.v1.disable_eager_execution()\n",
        "import matplotlib.pyplot as plt\n",
        "from sklearn.utils import shuffle\n",
        "from sklearn.preprocessing import LabelEncoder\n",
        "from sklearn.model_selection import train_test_split"
      ]
    },
    {
      "cell_type": "code",
      "source": [
        "data = pd.read_csv('/content/drive/MyDrive/M.tech/Machine learning/sonar.all-data.csv')"
      ],
      "metadata": {
        "id": "FFeY5zrVB3pD"
      },
      "execution_count": null,
      "outputs": []
    },
    {
      "cell_type": "code",
      "source": [
        "data.info()"
      ],
      "metadata": {
        "colab": {
          "base_uri": "https://localhost:8080/"
        },
        "id": "IvwEuUMGCJvi",
        "outputId": "fe134b7a-e433-41bb-8d4f-b1127296b179"
      },
      "execution_count": null,
      "outputs": [
        {
          "output_type": "stream",
          "name": "stdout",
          "text": [
            "<class 'pandas.core.frame.DataFrame'>\n",
            "RangeIndex: 207 entries, 0 to 206\n",
            "Data columns (total 61 columns):\n",
            " #   Column  Non-Null Count  Dtype  \n",
            "---  ------  --------------  -----  \n",
            " 0   0.0200  207 non-null    float64\n",
            " 1   0.0371  207 non-null    float64\n",
            " 2   0.0428  207 non-null    float64\n",
            " 3   0.0207  207 non-null    float64\n",
            " 4   0.0954  207 non-null    float64\n",
            " 5   0.0986  207 non-null    float64\n",
            " 6   0.1539  207 non-null    float64\n",
            " 7   0.1601  207 non-null    float64\n",
            " 8   0.3109  207 non-null    float64\n",
            " 9   0.2111  207 non-null    float64\n",
            " 10  0.1609  207 non-null    float64\n",
            " 11  0.1582  207 non-null    float64\n",
            " 12  0.2238  207 non-null    float64\n",
            " 13  0.0645  207 non-null    float64\n",
            " 14  0.0660  207 non-null    float64\n",
            " 15  0.2273  207 non-null    float64\n",
            " 16  0.3100  207 non-null    float64\n",
            " 17  0.2999  207 non-null    float64\n",
            " 18  0.5078  207 non-null    float64\n",
            " 19  0.4797  207 non-null    float64\n",
            " 20  0.5783  207 non-null    float64\n",
            " 21  0.5071  207 non-null    float64\n",
            " 22  0.4328  207 non-null    float64\n",
            " 23  0.5550  207 non-null    float64\n",
            " 24  0.6711  207 non-null    float64\n",
            " 25  0.6415  207 non-null    float64\n",
            " 26  0.7104  207 non-null    float64\n",
            " 27  0.8080  207 non-null    float64\n",
            " 28  0.6791  207 non-null    float64\n",
            " 29  0.3857  207 non-null    float64\n",
            " 30  0.1307  207 non-null    float64\n",
            " 31  0.2604  207 non-null    float64\n",
            " 32  0.5121  207 non-null    float64\n",
            " 33  0.7547  207 non-null    float64\n",
            " 34  0.8537  207 non-null    float64\n",
            " 35  0.8507  207 non-null    float64\n",
            " 36  0.6692  207 non-null    float64\n",
            " 37  0.6097  207 non-null    float64\n",
            " 38  0.4943  207 non-null    float64\n",
            " 39  0.2744  207 non-null    float64\n",
            " 40  0.0510  207 non-null    float64\n",
            " 41  0.2834  207 non-null    float64\n",
            " 42  0.2825  207 non-null    float64\n",
            " 43  0.4256  207 non-null    float64\n",
            " 44  0.2641  207 non-null    float64\n",
            " 45  0.1386  207 non-null    float64\n",
            " 46  0.1051  207 non-null    float64\n",
            " 47  0.1343  207 non-null    float64\n",
            " 48  0.0383  207 non-null    float64\n",
            " 49  0.0324  207 non-null    float64\n",
            " 50  0.0232  207 non-null    float64\n",
            " 51  0.0027  207 non-null    float64\n",
            " 52  0.0065  207 non-null    float64\n",
            " 53  0.0159  207 non-null    float64\n",
            " 54  0.0072  207 non-null    float64\n",
            " 55  0.0167  207 non-null    float64\n",
            " 56  0.0180  207 non-null    float64\n",
            " 57  0.0084  207 non-null    float64\n",
            " 58  0.0090  207 non-null    float64\n",
            " 59  0.0032  207 non-null    float64\n",
            " 60  R       207 non-null    object \n",
            "dtypes: float64(60), object(1)\n",
            "memory usage: 98.8+ KB\n"
          ]
        }
      ]
    },
    {
      "cell_type": "code",
      "source": [
        "data.head()"
      ],
      "metadata": {
        "colab": {
          "base_uri": "https://localhost:8080/",
          "height": 299
        },
        "id": "hV0XaWrdCL_o",
        "outputId": "f187293a-f752-4257-f3d0-3bf19e2f681c"
      },
      "execution_count": null,
      "outputs": [
        {
          "output_type": "execute_result",
          "data": {
            "text/plain": [
              "   0.0200  0.0371  0.0428  0.0207  0.0954  0.0986  0.1539  0.1601  0.3109  \\\n",
              "0  0.0453  0.0523  0.0843  0.0689  0.1183  0.2583  0.2156  0.3481  0.3337   \n",
              "1  0.0262  0.0582  0.1099  0.1083  0.0974  0.2280  0.2431  0.3771  0.5598   \n",
              "2  0.0100  0.0171  0.0623  0.0205  0.0205  0.0368  0.1098  0.1276  0.0598   \n",
              "3  0.0762  0.0666  0.0481  0.0394  0.0590  0.0649  0.1209  0.2467  0.3564   \n",
              "4  0.0286  0.0453  0.0277  0.0174  0.0384  0.0990  0.1201  0.1833  0.2105   \n",
              "\n",
              "   0.2111  ...  0.0027  0.0065  0.0159  0.0072  0.0167  0.0180  0.0084  \\\n",
              "0  0.2872  ...  0.0084  0.0089  0.0048  0.0094  0.0191  0.0140  0.0049   \n",
              "1  0.6194  ...  0.0232  0.0166  0.0095  0.0180  0.0244  0.0316  0.0164   \n",
              "2  0.1264  ...  0.0121  0.0036  0.0150  0.0085  0.0073  0.0050  0.0044   \n",
              "3  0.4459  ...  0.0031  0.0054  0.0105  0.0110  0.0015  0.0072  0.0048   \n",
              "4  0.3039  ...  0.0045  0.0014  0.0038  0.0013  0.0089  0.0057  0.0027   \n",
              "\n",
              "   0.0090  0.0032  R  \n",
              "0  0.0052  0.0044  R  \n",
              "1  0.0095  0.0078  R  \n",
              "2  0.0040  0.0117  R  \n",
              "3  0.0107  0.0094  R  \n",
              "4  0.0051  0.0062  R  \n",
              "\n",
              "[5 rows x 61 columns]"
            ],
            "text/html": [
              "\n",
              "\n",
              "  <div id=\"df-fd270307-1db5-49e0-8848-49f80993e36f\">\n",
              "    <div class=\"colab-df-container\">\n",
              "      <div>\n",
              "<style scoped>\n",
              "    .dataframe tbody tr th:only-of-type {\n",
              "        vertical-align: middle;\n",
              "    }\n",
              "\n",
              "    .dataframe tbody tr th {\n",
              "        vertical-align: top;\n",
              "    }\n",
              "\n",
              "    .dataframe thead th {\n",
              "        text-align: right;\n",
              "    }\n",
              "</style>\n",
              "<table border=\"1\" class=\"dataframe\">\n",
              "  <thead>\n",
              "    <tr style=\"text-align: right;\">\n",
              "      <th></th>\n",
              "      <th>0.0200</th>\n",
              "      <th>0.0371</th>\n",
              "      <th>0.0428</th>\n",
              "      <th>0.0207</th>\n",
              "      <th>0.0954</th>\n",
              "      <th>0.0986</th>\n",
              "      <th>0.1539</th>\n",
              "      <th>0.1601</th>\n",
              "      <th>0.3109</th>\n",
              "      <th>0.2111</th>\n",
              "      <th>...</th>\n",
              "      <th>0.0027</th>\n",
              "      <th>0.0065</th>\n",
              "      <th>0.0159</th>\n",
              "      <th>0.0072</th>\n",
              "      <th>0.0167</th>\n",
              "      <th>0.0180</th>\n",
              "      <th>0.0084</th>\n",
              "      <th>0.0090</th>\n",
              "      <th>0.0032</th>\n",
              "      <th>R</th>\n",
              "    </tr>\n",
              "  </thead>\n",
              "  <tbody>\n",
              "    <tr>\n",
              "      <th>0</th>\n",
              "      <td>0.0453</td>\n",
              "      <td>0.0523</td>\n",
              "      <td>0.0843</td>\n",
              "      <td>0.0689</td>\n",
              "      <td>0.1183</td>\n",
              "      <td>0.2583</td>\n",
              "      <td>0.2156</td>\n",
              "      <td>0.3481</td>\n",
              "      <td>0.3337</td>\n",
              "      <td>0.2872</td>\n",
              "      <td>...</td>\n",
              "      <td>0.0084</td>\n",
              "      <td>0.0089</td>\n",
              "      <td>0.0048</td>\n",
              "      <td>0.0094</td>\n",
              "      <td>0.0191</td>\n",
              "      <td>0.0140</td>\n",
              "      <td>0.0049</td>\n",
              "      <td>0.0052</td>\n",
              "      <td>0.0044</td>\n",
              "      <td>R</td>\n",
              "    </tr>\n",
              "    <tr>\n",
              "      <th>1</th>\n",
              "      <td>0.0262</td>\n",
              "      <td>0.0582</td>\n",
              "      <td>0.1099</td>\n",
              "      <td>0.1083</td>\n",
              "      <td>0.0974</td>\n",
              "      <td>0.2280</td>\n",
              "      <td>0.2431</td>\n",
              "      <td>0.3771</td>\n",
              "      <td>0.5598</td>\n",
              "      <td>0.6194</td>\n",
              "      <td>...</td>\n",
              "      <td>0.0232</td>\n",
              "      <td>0.0166</td>\n",
              "      <td>0.0095</td>\n",
              "      <td>0.0180</td>\n",
              "      <td>0.0244</td>\n",
              "      <td>0.0316</td>\n",
              "      <td>0.0164</td>\n",
              "      <td>0.0095</td>\n",
              "      <td>0.0078</td>\n",
              "      <td>R</td>\n",
              "    </tr>\n",
              "    <tr>\n",
              "      <th>2</th>\n",
              "      <td>0.0100</td>\n",
              "      <td>0.0171</td>\n",
              "      <td>0.0623</td>\n",
              "      <td>0.0205</td>\n",
              "      <td>0.0205</td>\n",
              "      <td>0.0368</td>\n",
              "      <td>0.1098</td>\n",
              "      <td>0.1276</td>\n",
              "      <td>0.0598</td>\n",
              "      <td>0.1264</td>\n",
              "      <td>...</td>\n",
              "      <td>0.0121</td>\n",
              "      <td>0.0036</td>\n",
              "      <td>0.0150</td>\n",
              "      <td>0.0085</td>\n",
              "      <td>0.0073</td>\n",
              "      <td>0.0050</td>\n",
              "      <td>0.0044</td>\n",
              "      <td>0.0040</td>\n",
              "      <td>0.0117</td>\n",
              "      <td>R</td>\n",
              "    </tr>\n",
              "    <tr>\n",
              "      <th>3</th>\n",
              "      <td>0.0762</td>\n",
              "      <td>0.0666</td>\n",
              "      <td>0.0481</td>\n",
              "      <td>0.0394</td>\n",
              "      <td>0.0590</td>\n",
              "      <td>0.0649</td>\n",
              "      <td>0.1209</td>\n",
              "      <td>0.2467</td>\n",
              "      <td>0.3564</td>\n",
              "      <td>0.4459</td>\n",
              "      <td>...</td>\n",
              "      <td>0.0031</td>\n",
              "      <td>0.0054</td>\n",
              "      <td>0.0105</td>\n",
              "      <td>0.0110</td>\n",
              "      <td>0.0015</td>\n",
              "      <td>0.0072</td>\n",
              "      <td>0.0048</td>\n",
              "      <td>0.0107</td>\n",
              "      <td>0.0094</td>\n",
              "      <td>R</td>\n",
              "    </tr>\n",
              "    <tr>\n",
              "      <th>4</th>\n",
              "      <td>0.0286</td>\n",
              "      <td>0.0453</td>\n",
              "      <td>0.0277</td>\n",
              "      <td>0.0174</td>\n",
              "      <td>0.0384</td>\n",
              "      <td>0.0990</td>\n",
              "      <td>0.1201</td>\n",
              "      <td>0.1833</td>\n",
              "      <td>0.2105</td>\n",
              "      <td>0.3039</td>\n",
              "      <td>...</td>\n",
              "      <td>0.0045</td>\n",
              "      <td>0.0014</td>\n",
              "      <td>0.0038</td>\n",
              "      <td>0.0013</td>\n",
              "      <td>0.0089</td>\n",
              "      <td>0.0057</td>\n",
              "      <td>0.0027</td>\n",
              "      <td>0.0051</td>\n",
              "      <td>0.0062</td>\n",
              "      <td>R</td>\n",
              "    </tr>\n",
              "  </tbody>\n",
              "</table>\n",
              "<p>5 rows × 61 columns</p>\n",
              "</div>\n",
              "      <button class=\"colab-df-convert\" onclick=\"convertToInteractive('df-fd270307-1db5-49e0-8848-49f80993e36f')\"\n",
              "              title=\"Convert this dataframe to an interactive table.\"\n",
              "              style=\"display:none;\">\n",
              "\n",
              "  <svg xmlns=\"http://www.w3.org/2000/svg\" height=\"24px\"viewBox=\"0 0 24 24\"\n",
              "       width=\"24px\">\n",
              "    <path d=\"M0 0h24v24H0V0z\" fill=\"none\"/>\n",
              "    <path d=\"M18.56 5.44l.94 2.06.94-2.06 2.06-.94-2.06-.94-.94-2.06-.94 2.06-2.06.94zm-11 1L8.5 8.5l.94-2.06 2.06-.94-2.06-.94L8.5 2.5l-.94 2.06-2.06.94zm10 10l.94 2.06.94-2.06 2.06-.94-2.06-.94-.94-2.06-.94 2.06-2.06.94z\"/><path d=\"M17.41 7.96l-1.37-1.37c-.4-.4-.92-.59-1.43-.59-.52 0-1.04.2-1.43.59L10.3 9.45l-7.72 7.72c-.78.78-.78 2.05 0 2.83L4 21.41c.39.39.9.59 1.41.59.51 0 1.02-.2 1.41-.59l7.78-7.78 2.81-2.81c.8-.78.8-2.07 0-2.86zM5.41 20L4 18.59l7.72-7.72 1.47 1.35L5.41 20z\"/>\n",
              "  </svg>\n",
              "      </button>\n",
              "\n",
              "\n",
              "\n",
              "    <div id=\"df-46f0269e-60f5-44ad-868b-783157cff2c0\">\n",
              "      <button class=\"colab-df-quickchart\" onclick=\"quickchart('df-46f0269e-60f5-44ad-868b-783157cff2c0')\"\n",
              "              title=\"Suggest charts.\"\n",
              "              style=\"display:none;\">\n",
              "\n",
              "<svg xmlns=\"http://www.w3.org/2000/svg\" height=\"24px\"viewBox=\"0 0 24 24\"\n",
              "     width=\"24px\">\n",
              "    <g>\n",
              "        <path d=\"M19 3H5c-1.1 0-2 .9-2 2v14c0 1.1.9 2 2 2h14c1.1 0 2-.9 2-2V5c0-1.1-.9-2-2-2zM9 17H7v-7h2v7zm4 0h-2V7h2v10zm4 0h-2v-4h2v4z\"/>\n",
              "    </g>\n",
              "</svg>\n",
              "      </button>\n",
              "    </div>\n",
              "\n",
              "<style>\n",
              "  .colab-df-quickchart {\n",
              "    background-color: #E8F0FE;\n",
              "    border: none;\n",
              "    border-radius: 50%;\n",
              "    cursor: pointer;\n",
              "    display: none;\n",
              "    fill: #1967D2;\n",
              "    height: 32px;\n",
              "    padding: 0 0 0 0;\n",
              "    width: 32px;\n",
              "  }\n",
              "\n",
              "  .colab-df-quickchart:hover {\n",
              "    background-color: #E2EBFA;\n",
              "    box-shadow: 0px 1px 2px rgba(60, 64, 67, 0.3), 0px 1px 3px 1px rgba(60, 64, 67, 0.15);\n",
              "    fill: #174EA6;\n",
              "  }\n",
              "\n",
              "  [theme=dark] .colab-df-quickchart {\n",
              "    background-color: #3B4455;\n",
              "    fill: #D2E3FC;\n",
              "  }\n",
              "\n",
              "  [theme=dark] .colab-df-quickchart:hover {\n",
              "    background-color: #434B5C;\n",
              "    box-shadow: 0px 1px 3px 1px rgba(0, 0, 0, 0.15);\n",
              "    filter: drop-shadow(0px 1px 2px rgba(0, 0, 0, 0.3));\n",
              "    fill: #FFFFFF;\n",
              "  }\n",
              "</style>\n",
              "\n",
              "    <script>\n",
              "      async function quickchart(key) {\n",
              "        const containerElement = document.querySelector('#' + key);\n",
              "        const charts = await google.colab.kernel.invokeFunction(\n",
              "            'suggestCharts', [key], {});\n",
              "      }\n",
              "    </script>\n",
              "\n",
              "      <script>\n",
              "\n",
              "function displayQuickchartButton(domScope) {\n",
              "  let quickchartButtonEl =\n",
              "    domScope.querySelector('#df-46f0269e-60f5-44ad-868b-783157cff2c0 button.colab-df-quickchart');\n",
              "  quickchartButtonEl.style.display =\n",
              "    google.colab.kernel.accessAllowed ? 'block' : 'none';\n",
              "}\n",
              "\n",
              "        displayQuickchartButton(document);\n",
              "      </script>\n",
              "      <style>\n",
              "    .colab-df-container {\n",
              "      display:flex;\n",
              "      flex-wrap:wrap;\n",
              "      gap: 12px;\n",
              "    }\n",
              "\n",
              "    .colab-df-convert {\n",
              "      background-color: #E8F0FE;\n",
              "      border: none;\n",
              "      border-radius: 50%;\n",
              "      cursor: pointer;\n",
              "      display: none;\n",
              "      fill: #1967D2;\n",
              "      height: 32px;\n",
              "      padding: 0 0 0 0;\n",
              "      width: 32px;\n",
              "    }\n",
              "\n",
              "    .colab-df-convert:hover {\n",
              "      background-color: #E2EBFA;\n",
              "      box-shadow: 0px 1px 2px rgba(60, 64, 67, 0.3), 0px 1px 3px 1px rgba(60, 64, 67, 0.15);\n",
              "      fill: #174EA6;\n",
              "    }\n",
              "\n",
              "    [theme=dark] .colab-df-convert {\n",
              "      background-color: #3B4455;\n",
              "      fill: #D2E3FC;\n",
              "    }\n",
              "\n",
              "    [theme=dark] .colab-df-convert:hover {\n",
              "      background-color: #434B5C;\n",
              "      box-shadow: 0px 1px 3px 1px rgba(0, 0, 0, 0.15);\n",
              "      filter: drop-shadow(0px 1px 2px rgba(0, 0, 0, 0.3));\n",
              "      fill: #FFFFFF;\n",
              "    }\n",
              "  </style>\n",
              "\n",
              "      <script>\n",
              "        const buttonEl =\n",
              "          document.querySelector('#df-fd270307-1db5-49e0-8848-49f80993e36f button.colab-df-convert');\n",
              "        buttonEl.style.display =\n",
              "          google.colab.kernel.accessAllowed ? 'block' : 'none';\n",
              "\n",
              "        async function convertToInteractive(key) {\n",
              "          const element = document.querySelector('#df-fd270307-1db5-49e0-8848-49f80993e36f');\n",
              "          const dataTable =\n",
              "            await google.colab.kernel.invokeFunction('convertToInteractive',\n",
              "                                                     [key], {});\n",
              "          if (!dataTable) return;\n",
              "\n",
              "          const docLinkHtml = 'Like what you see? Visit the ' +\n",
              "            '<a target=\"_blank\" href=https://colab.research.google.com/notebooks/data_table.ipynb>data table notebook</a>'\n",
              "            + ' to learn more about interactive tables.';\n",
              "          element.innerHTML = '';\n",
              "          dataTable['output_type'] = 'display_data';\n",
              "          await google.colab.output.renderOutput(dataTable, element);\n",
              "          const docLink = document.createElement('div');\n",
              "          docLink.innerHTML = docLinkHtml;\n",
              "          element.appendChild(docLink);\n",
              "        }\n",
              "      </script>\n",
              "    </div>\n",
              "  </div>\n"
            ]
          },
          "metadata": {},
          "execution_count": 4
        }
      ]
    },
    {
      "cell_type": "code",
      "source": [
        "print(\"Total Columns : \", len(data.columns))"
      ],
      "metadata": {
        "colab": {
          "base_uri": "https://localhost:8080/"
        },
        "id": "OrqTr0oiCRqI",
        "outputId": "25b76a27-77c6-4ce5-9e0c-b54892fc5544"
      },
      "execution_count": null,
      "outputs": [
        {
          "output_type": "stream",
          "name": "stdout",
          "text": [
            "Total Columns :  61\n"
          ]
        }
      ]
    },
    {
      "cell_type": "code",
      "source": [
        "data[data.columns[60]].value_counts()"
      ],
      "metadata": {
        "colab": {
          "base_uri": "https://localhost:8080/"
        },
        "id": "I76to8p7WKMZ",
        "outputId": "7f33699f-e8b0-411e-ecc4-c7b9c3e4d96c"
      },
      "execution_count": null,
      "outputs": [
        {
          "output_type": "execute_result",
          "data": {
            "text/plain": [
              "M    111\n",
              "R     96\n",
              "Name: R, dtype: int64"
            ]
          },
          "metadata": {},
          "execution_count": 6
        }
      ]
    },
    {
      "cell_type": "code",
      "source": [
        "X = data[data.columns[0:60]].values\n",
        "y = data[data.columns[60]].values"
      ],
      "metadata": {
        "id": "nBaGhWlpWKpv"
      },
      "execution_count": null,
      "outputs": []
    },
    {
      "cell_type": "code",
      "source": [
        "print(X.shape)"
      ],
      "metadata": {
        "colab": {
          "base_uri": "https://localhost:8080/"
        },
        "id": "YYrkTbl2WQ-a",
        "outputId": "394584c0-c5a6-4056-9079-ffb31bf972a9"
      },
      "execution_count": null,
      "outputs": [
        {
          "output_type": "stream",
          "name": "stdout",
          "text": [
            "(207, 60)\n"
          ]
        }
      ]
    },
    {
      "cell_type": "code",
      "source": [
        "def one_hot_encode(labels):\n",
        "    n_labels = len(labels)\n",
        "    n_unique_labels = len(np.unique(labels))\n",
        "    one_hot_encode = np.zeros((n_labels,n_unique_labels))\n",
        "    one_hot_encode[np.arange(n_labels), labels] = 1\n",
        "    return one_hot_encode"
      ],
      "metadata": {
        "id": "efruvExDWRUo"
      },
      "execution_count": null,
      "outputs": []
    },
    {
      "cell_type": "code",
      "source": [
        "encoder = LabelEncoder()\n",
        "encoder.fit(y)\n",
        "y = encoder.transform(y)\n",
        "Y = one_hot_encode(y)"
      ],
      "metadata": {
        "id": "EPnqojQnWZu4"
      },
      "execution_count": null,
      "outputs": []
    },
    {
      "cell_type": "code",
      "source": [
        "Y[0]"
      ],
      "metadata": {
        "colab": {
          "base_uri": "https://localhost:8080/"
        },
        "id": "vUyaWHFZWaT4",
        "outputId": "0105c0b6-ddc9-49da-f40d-93a9f2097fba"
      },
      "execution_count": null,
      "outputs": [
        {
          "output_type": "execute_result",
          "data": {
            "text/plain": [
              "array([0., 1.])"
            ]
          },
          "metadata": {},
          "execution_count": 11
        }
      ]
    },
    {
      "cell_type": "code",
      "source": [
        "X,Y = shuffle (X, Y, random_state = 0)"
      ],
      "metadata": {
        "id": "MhrN0d7CWf4K"
      },
      "execution_count": null,
      "outputs": []
    },
    {
      "cell_type": "code",
      "source": [
        "train_x, test_x, train_y, test_y = train_test_split(X, Y, test_size = 0.20, random_state = 0)"
      ],
      "metadata": {
        "id": "BTPYYDfYWlQ6"
      },
      "execution_count": null,
      "outputs": []
    },
    {
      "cell_type": "code",
      "source": [
        "learning_rate = 0.2\n",
        "training_epochs = 500\n",
        "n_dim = X.shape[1]\n",
        "print(\"n_dim = \", n_dim)\n",
        "n_class = 2"
      ],
      "metadata": {
        "colab": {
          "base_uri": "https://localhost:8080/"
        },
        "id": "fY17WZOUWnRR",
        "outputId": "f401f28b-2d96-4eac-b7aa-9a5d2cd43d47"
      },
      "execution_count": null,
      "outputs": [
        {
          "output_type": "stream",
          "name": "stdout",
          "text": [
            "n_dim =  60\n"
          ]
        }
      ]
    },
    {
      "cell_type": "code",
      "source": [
        "cost_history = np.empty(shape=[1],dtype=float)"
      ],
      "metadata": {
        "id": "qEoQbdecWsYW"
      },
      "execution_count": null,
      "outputs": []
    },
    {
      "cell_type": "code",
      "source": [
        "n_hidden_1 = 60\n",
        "n_hidden_2 = 60\n",
        "n_hidden_3 = 60\n",
        "n_hidden_4 = 60"
      ],
      "metadata": {
        "id": "edSJhzMBWy0A"
      },
      "execution_count": null,
      "outputs": []
    },
    {
      "cell_type": "code",
      "source": [
        "x = tf.compat.v1.placeholder(tf.float32, [None, n_dim])\n",
        "W = tf.Variable(tf.zeros([n_dim, n_class]))\n",
        "b = tf.Variable(tf.zeros([n_class]))\n",
        "y_ = tf.compat.v1.placeholder(tf.float32, [None, n_class])"
      ],
      "metadata": {
        "id": "5oi_k_PUW4kh"
      },
      "execution_count": null,
      "outputs": []
    },
    {
      "cell_type": "code",
      "source": [
        "def multilayer_perceptron(x, weights, biases):\n",
        "\n",
        "    # Hidden layer with RELU activationsd\n",
        "    layer_1 = tf.add(tf.matmul(x, weights['h1']), biases['b1'])\n",
        "    layer_1 = tf.nn.relu(layer_1)\n",
        "\n",
        "    # Hidden layer with sigmoid activation\n",
        "    layer_2 = tf.add(tf.matmul(layer_1, weights['h2']), biases['b2'])\n",
        "    layer_2 = tf.nn.relu(layer_2)\n",
        "\n",
        "    # Hidden layer with sigmoid activation\n",
        "    layer_3 = tf.add(tf.matmul(layer_2, weights['h3']), biases['b3'])\n",
        "    layer_3 = tf.nn.relu(layer_3)\n",
        "\n",
        "    # Hidden layer with RELU activation\n",
        "    layer_4 = tf.add(tf.matmul(layer_3, weights['h4']), biases['b4'])\n",
        "    layer_4 = tf.nn.sigmoid(layer_4)\n",
        "\n",
        "    # Output layer with linear activation\n",
        "    out_layer = tf.matmul(layer_4, weights['out']) + biases['out']\n",
        "    return out_layer\n",
        "\n",
        "# Define the weights for each layers"
      ],
      "metadata": {
        "id": "lPaqB5zrW5bJ"
      },
      "execution_count": null,
      "outputs": []
    },
    {
      "cell_type": "code",
      "source": [
        "# Define the weights for each layers\n",
        "\n",
        "weights = {\n",
        "    'h1': tf.Variable(tf.compat.v1.truncated_normal([n_dim, n_hidden_1])),\n",
        "    'h2': tf.Variable(tf.compat.v1.truncated_normal([n_hidden_1, n_hidden_2])),\n",
        "    'h3': tf.Variable(tf.compat.v1.truncated_normal([n_hidden_2, n_hidden_3])),\n",
        "    'h4': tf.Variable(tf.compat.v1.truncated_normal([n_hidden_3, n_hidden_4])),\n",
        "    'out': tf.Variable(tf.compat.v1.truncated_normal([n_hidden_4, n_class]))\n",
        "}"
      ],
      "metadata": {
        "id": "z3TDiAdjYIlH"
      },
      "execution_count": null,
      "outputs": []
    },
    {
      "cell_type": "code",
      "source": [
        "\n",
        "biases = {\n",
        "    'b1': tf.Variable(tf.compat.v1.truncated_normal([n_hidden_1])),\n",
        "    'b2': tf.Variable(tf.compat.v1.truncated_normal([n_hidden_2])),\n",
        "    'b3': tf.Variable(tf.compat.v1.truncated_normal([n_hidden_3])),\n",
        "    'b4': tf.Variable(tf.compat.v1.truncated_normal([n_hidden_4])),\n",
        "    'out': tf.Variable(tf.compat.v1.truncated_normal([n_class]))\n",
        "}"
      ],
      "metadata": {
        "id": "HALJT2BIYOgT"
      },
      "execution_count": null,
      "outputs": []
    },
    {
      "cell_type": "code",
      "source": [
        "init = tf.compat.v1.global_variables_initializer()"
      ],
      "metadata": {
        "id": "E9G1R_ZRYmhG"
      },
      "execution_count": null,
      "outputs": []
    },
    {
      "cell_type": "code",
      "source": [
        "y = multilayer_perceptron(x, weights, biases)"
      ],
      "metadata": {
        "id": "9J1AwPZGYqqj"
      },
      "execution_count": null,
      "outputs": []
    },
    {
      "cell_type": "code",
      "source": [
        "cost_function = tf.reduce_mean(tf.nn.softmax_cross_entropy_with_logits(logits=y, labels=y_))\n",
        "training_step = tf.compat.v1.train.GradientDescentOptimizer(learning_rate).minimize(cost_function)"
      ],
      "metadata": {
        "id": "fF-8Nj7zYwmi"
      },
      "execution_count": null,
      "outputs": []
    },
    {
      "cell_type": "code",
      "source": [
        "sess = tf.compat.v1.Session()\n",
        "sess.run(init)"
      ],
      "metadata": {
        "id": "Bi4k2a21Y1P-"
      },
      "execution_count": null,
      "outputs": []
    },
    {
      "cell_type": "code",
      "source": [
        "mse_history = []\n",
        "accuracy_history = []"
      ],
      "metadata": {
        "id": "0xlz2C7IZG0F"
      },
      "execution_count": null,
      "outputs": []
    },
    {
      "cell_type": "code",
      "source": [
        "for epoch in range(training_epochs):\n",
        "    sess.run(training_step, feed_dict = {x: train_x, y_: train_y})\n",
        "    cost = sess.run(cost_function, feed_dict={x: train_x, y_: train_y})\n",
        "    cost_history = np.append(cost_history, cost)\n",
        "    correct_prediction = tf.equal(tf.argmax(y, 1), tf.argmax(y_, 1))\n",
        "    accuracy = tf.reduce_mean(tf.cast(correct_prediction, tf.float32))\n",
        "    pred_y = sess.run(y, feed_dict = {x: test_x})\n",
        "    mse = tf.reduce_mean(tf.square(pred_y - test_y))\n",
        "    mse_ = sess.run(mse)\n",
        "    mse_history.append(mse_)\n",
        "    accuracy = (sess.run(accuracy, feed_dict={x: train_x, y_: train_y}))\n",
        "    accuracy_history.append(accuracy)\n",
        "\n",
        "    if epoch % 50 == 0:\n",
        "        print('epoch : ', epoch, ' ; ', 'cost: ', cost, \" ; MSE: \", mse_, \"- Train Accuracy: \", accuracy )"
      ],
      "metadata": {
        "colab": {
          "base_uri": "https://localhost:8080/"
        },
        "id": "2ZmrEf2YzanS",
        "outputId": "d76bf871-b561-4601-acd3-4aaf8f41acc6"
      },
      "execution_count": null,
      "outputs": [
        {
          "output_type": "stream",
          "name": "stdout",
          "text": [
            "epoch :  0  ;  cost:  1.3912411  ; MSE:  4.813006481698617 - Train Accuracy:  0.57575756\n",
            "epoch :  50  ;  cost:  1.1723135  ; MSE:  2.911458913584729 - Train Accuracy:  0.53939396\n",
            "epoch :  100  ;  cost:  1.0927281  ; MSE:  2.6734452558000754 - Train Accuracy:  0.55151516\n",
            "epoch :  150  ;  cost:  1.1733459  ; MSE:  1.9328702880086492 - Train Accuracy:  0.55151516\n",
            "epoch :  200  ;  cost:  1.1561954  ; MSE:  2.0288543955333678 - Train Accuracy:  0.55757576\n",
            "epoch :  250  ;  cost:  1.1182661  ; MSE:  1.8053357441086577 - Train Accuracy:  0.57575756\n",
            "epoch :  300  ;  cost:  1.0585734  ; MSE:  3.627405511284696 - Train Accuracy:  0.54545456\n",
            "epoch :  350  ;  cost:  1.0567468  ; MSE:  3.745703999327169 - Train Accuracy:  0.55151516\n",
            "epoch :  400  ;  cost:  1.0322714  ; MSE:  3.32006387708712 - Train Accuracy:  0.55757576\n",
            "epoch :  450  ;  cost:  1.0637306  ; MSE:  2.150708478740861 - Train Accuracy:  0.56363636\n"
          ]
        }
      ]
    },
    {
      "cell_type": "code",
      "source": [
        "plt.plot(range(len(cost_history)), cost_history)\n",
        "plt.xlabel('Epochs ')\n",
        "plt.ylabel('Cost_History ')\n",
        "plt.title(\"Cost per Epoch Graph\")\n",
        "plt.xlim(0, training_epochs + 10)\n",
        "plt.ylim(0, np.max(cost_history))\n",
        "plt.rcParams['figure.figsize'] = [12, 5]\n",
        "plt.show()"
      ],
      "metadata": {
        "colab": {
          "base_uri": "https://localhost:8080/",
          "height": 472
        },
        "id": "zmvSiux_zhkp",
        "outputId": "f9321486-3724-4226-d3e7-da37a111613a"
      },
      "execution_count": null,
      "outputs": [
        {
          "output_type": "display_data",
          "data": {
            "text/plain": [
              "<Figure size 640x480 with 1 Axes>"
            ],
            "image/png": "[encoded data removed]"
          },
          "metadata": {}
        }
      ]
    },
    {
      "cell_type": "code",
      "source": [
        "plt.plot(range(len(accuracy_history)), accuracy_history)\n",
        "plt.xlabel('Epochs ')\n",
        "plt.ylabel('Accuracy_History ')\n",
        "plt.title(\"Cost per Epoch Graph\")\n",
        "plt.xlim(0, training_epochs + 10)\n",
        "plt.ylim(0.4, np.max(accuracy_history)+0.2)\n",
        "plt.rcParams['figure.figsize'] = [12, 5]\n",
        "plt.show()"
      ],
      "metadata": {
        "colab": {
          "base_uri": "https://localhost:8080/",
          "height": 487
        },
        "id": "hiIIZqFxzsuS",
        "outputId": "5ced363e-5b11-4781-ee7f-3f5b0d28912e"
      },
      "execution_count": null,
      "outputs": [
        {
          "output_type": "display_data",
          "data": {
            "text/plain": [
              "<Figure size 1200x500 with 1 Axes>"
            ],
            "image/png": "[encoded data removed]"
          },
          "metadata": {}
        }
      ]
    },
    {
      "cell_type": "code",
      "source": [
        "correct_prediction = tf.equal(tf.argmax(y, 1), tf.argmax(y_, 1))\n",
        "accuracy = tf.reduce_mean(tf.cast(correct_prediction, tf.float32))\n",
        "print(\"Test Accuracy: \", (sess.run(accuracy, feed_dict={x: test_x, y_: test_y})))"
      ],
      "metadata": {
        "colab": {
          "base_uri": "https://localhost:8080/"
        },
        "id": "rkRRdyahztc9",
        "outputId": "4d09cfc1-b8c8-4b39-a419-3223704c98d8"
      },
      "execution_count": null,
      "outputs": [
        {
          "output_type": "stream",
          "name": "stdout",
          "text": [
            "Test Accuracy:  0.47619048\n"
          ]
        }
      ]
    },
    {
      "cell_type": "code",
      "source": [
        "pred_y = sess.run(y, feed_dict={x: test_x})\n",
        "mse = tf.reduce_mean(tf.square(pred_y - test_y))\n",
        "print(\"MSE: %.4f\" % sess.run(mse))"
      ],
      "metadata": {
        "colab": {
          "base_uri": "https://localhost:8080/"
        },
        "id": "o6IL-2Zr0LLq",
        "outputId": "088b087a-f2b6-4a01-8e21-a367fd243168"
      },
      "execution_count": null,
      "outputs": [
        {
          "output_type": "stream",
          "name": "stdout",
          "text": [
            "MSE: 1.2312\n"
          ]
        }
      ]
    },
    {
      "cell_type": "code",
      "source": [],
      "metadata": {
        "id": "DTLRLv6N0l1C"
      },
      "execution_count": null,
      "outputs": []
    }
  ]
}